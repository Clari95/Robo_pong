{
 "cells": [
  {
   "cell_type": "code",
   "execution_count": 48,
   "metadata": {},
   "outputs": [],
   "source": [
    "import numpy as np\n",
    "# 3D Robo frame (mm)\n",
    "Robo1 = np.array([271.56,0.05,189.75])\n",
    "Robo2 = np.array([145.73,-125.99,437.63]) #210.1615\n",
    "Robo3 = np.array([397.66,282.08,187.52])\n",
    "Robo4 = np.array([524.74,153.28,-33.01])\n",
    "Robo5 = np.array([537.16,-127.98,264.69])\n",
    "Robo6 = np.array([240.20,128.40,470.06])\n",
    "Robo7 = np.array([320.84,-160.40,423.57])\n",
    "Robo8 = np.array([542.04,-95.88,183.95])\n",
    "Robo9 = np.array([410.86,72.29,-42.20])\n",
    "\n",
    "\n",
    "# 3D Camera frame (px: (x,y,z))\n",
    "Cam1 = np.array([332,271,1968]) # green block\n",
    "Cam2 = np.array([259,137,2599]) # red block\n",
    "Cam3 = np.array([471,283,1498]) # blue block\n",
    "Cam4 = np.array([407,393,1716])\n",
    "Cam5 = np.array([270,276,1291])\n",
    "Cam6 = np.array([405,126,2577])\n",
    "Cam7 = np.array([252,166,2609])\n",
    "Cam8 = np.array([296,312,1421])\n",
    "Cam9 = np.array([373,366,1720])\n"
   ]
  },
  {
   "cell_type": "code",
   "execution_count": 49,
   "metadata": {},
   "outputs": [],
   "source": [
    "#for a b c does not work for variables, we have to use it with our measured values as in the example above\n",
    "import numpy as np\n",
    "\n",
    "# A = np.array([[X1, Y1, Z1], [X2, Y2, Z2], [X3, Y3, Z3]])\n",
    "A = np.array([Robo1,Robo2,Robo3,Robo4,Robo5, Robo6, Robo7,Robo8, Robo9])\n",
    "#A = np.array([Robo1,Robo2,Robo3])"
   ]
  },
  {
   "cell_type": "code",
   "execution_count": 50,
   "metadata": {},
   "outputs": [
    {
     "name": "stdout",
     "output_type": "stream",
     "text": [
      "[0.59106074 0.67958998 0.42079333]\n",
      "Result: False\n"
     ]
    }
   ],
   "source": [
    "#bx = np.array([x1, x2, x3])\n",
    "bx = np.array([Cam1[0], Cam2[0], Cam3[0],Cam4[0],Cam5[0], Cam6[0], Cam7[0], Cam8[0],Cam9[0]])\n",
    "#bx = np.array([Cam1[0], Cam2[0], Cam3[0]])\n",
    "#xi = np.linalg.solve(A, bx)\n",
    "xi = np.linalg.lstsq(A, bx, rcond=None)[0]\n",
    "print(xi)\n",
    "\n",
    "# check if solution is correct\n",
    "print(\"Result: \" + str(np.allclose(np.dot(A, xi), bx)))"
   ]
  },
  {
   "cell_type": "code",
   "execution_count": 51,
   "metadata": {},
   "outputs": [
    {
     "name": "stdout",
     "output_type": "stream",
     "text": [
      "[ 0.68343312  0.14378898 -0.04603198]\n",
      "Result: False\n"
     ]
    }
   ],
   "source": [
    "#for d e f does not work for variables, we have to use it with our measured values as in the example above\n",
    "# by = np.array([y1, y2, y3])\n",
    "#by = np.array([Cam1[1], Cam2[1], Cam3[1]])\n",
    "by = np.array([Cam1[1], Cam2[1], Cam3[1],Cam4[1],Cam5[1], Cam6[1], Cam7[1], Cam8[1],Cam9[1]])\n",
    "#xii = np.linalg.solve(A, by)\n",
    "xii = np.linalg.lstsq(A, by, rcond=None)[0]\n",
    "print(xii)\n",
    "\n",
    "# check if solution is correct\n",
    "print(\"Result: \" + str(np.allclose(np.dot(A, xii), by)))"
   ]
  },
  {
   "cell_type": "code",
   "execution_count": 52,
   "metadata": {},
   "outputs": [
    {
     "name": "stdout",
     "output_type": "stream",
     "text": [
      "[2.27099529 1.25099609 4.15946376]\n",
      "Result: False\n"
     ]
    }
   ],
   "source": [
    "#for g h i does not work for variables, we have to use it with our measured values as in the example above\n",
    "# bz = np.array([z1, z2, z3])\n",
    "#bz = np.array([Cam1[2], Cam2[2], Cam3[2]])\n",
    "bz = np.array([Cam1[2], Cam2[2], Cam3[2],Cam4[2],Cam5[2], Cam6[2], Cam7[2], Cam8[2],Cam9[2]])\n",
    "#xiii = np.linalg.solve(A, bz)\n",
    "xiii = np.linalg.lstsq(A, bz, rcond=None)[0]\n",
    "print(xiii)\n",
    "\n",
    "# check if solution is correct\n",
    "print(\"Result: \" + str(np.allclose(np.dot(A, xiii), bz)))"
   ]
  },
  {
   "cell_type": "code",
   "execution_count": 53,
   "metadata": {},
   "outputs": [
    {
     "name": "stdout",
     "output_type": "stream",
     "text": [
      "[[ 0.59106074  0.67958998  0.42079333]\n",
      " [ 0.68343312  0.14378898 -0.04603198]\n",
      " [ 2.27099529  1.25099609  4.15946376]]\n",
      "\n",
      "[[-0.47068177  1.65131359  0.06589142]\n",
      " [ 2.11572391 -1.07885886 -0.22597733]\n",
      " [-0.37933887 -0.57711217  0.27240474]]\n"
     ]
    }
   ],
   "source": [
    "import numpy as np\n",
    "TrafoMatrix = np.array([xi, xii, xiii])\n",
    "print(TrafoMatrix)\n",
    "print()\n",
    "invTrafoMatrix = np.linalg.inv(TrafoMatrix)\n",
    "print(invTrafoMatrix)"
   ]
  },
  {
   "cell_type": "code",
   "execution_count": 54,
   "metadata": {},
   "outputs": [
    {
     "data": {
      "text/plain": [
       "array([[ 1.00000000e+00,  2.22776338e-16,  3.31667028e-18],\n",
       "       [-3.44090879e-17,  1.00000000e+00,  7.88884704e-17],\n",
       "       [ 9.73201224e-17,  5.39147703e-16,  1.00000000e+00]])"
      ]
     },
     "execution_count": 54,
     "metadata": {},
     "output_type": "execute_result"
    }
   ],
   "source": [
    "TrafoMatrix@invTrafoMatrix"
   ]
  }
 ],
 "metadata": {
  "kernelspec": {
   "display_name": "Python 3",
   "language": "python",
   "name": "python3"
  },
  "language_info": {
   "codemirror_mode": {
    "name": "ipython",
    "version": 3
   },
   "file_extension": ".py",
   "mimetype": "text/x-python",
   "name": "python",
   "nbconvert_exporter": "python",
   "pygments_lexer": "ipython3",
   "version": "3.7.4"
  }
 },
 "nbformat": 4,
 "nbformat_minor": 2
}
