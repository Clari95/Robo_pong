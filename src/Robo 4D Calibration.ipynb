{
 "cells": [
  {
   "cell_type": "code",
   "execution_count": 1,
   "metadata": {},
   "outputs": [],
   "source": [
    "import numpy as np"
   ]
  },
  {
   "cell_type": "markdown",
   "metadata": {},
   "source": [
    "Credits to: https://github.com/heretic1993/autoCalibration"
   ]
  },
  {
   "cell_type": "code",
   "execution_count": 2,
   "metadata": {},
   "outputs": [
    {
     "data": {
      "text/plain": [
       "[[-221.63, 449.19, -108.02, 0],\n",
       " [57.03, 296.45, 504.09, 0],\n",
       " [377.84, 545.41, -0.86, 0],\n",
       " [437.44, 124.65, 481.03, 0],\n",
       " [713.23, 187.79, 80.57, 0],\n",
       " [596.38, -196.88, 58.72, 0],\n",
       " [542.61, -365.15, 293.54, 0],\n",
       " [211.25, -427.34, 487.84, 0],\n",
       " [694.05, -4.92, 223.01, 0]]"
      ]
     },
     "execution_count": 2,
     "metadata": {},
     "output_type": "execute_result"
    }
   ],
   "source": [
    "Robo1 = [-221.63,449.19,-108.02,0]\n",
    "Robo2 = [57.03,296.45,504.09,0]\n",
    "Robo3 = [377.84,545.41,-0.86,0]\n",
    "Robo4 = [437.44,124.65,481.03,0]\n",
    "Robo5 = [713.23,187.79,80.57,0]\n",
    "Robo6 = [596.38,-196.88,58.72,0]\n",
    "Robo7 = [542.61,-365.15,293.54,0]\n",
    "Robo8 = [211.25,-427.34,487.84,0]\n",
    "Robo9 = [694.05,-4.92,223.01,0]\n",
    "\n",
    "Robo = []\n",
    "Robo.append(Robo1)\n",
    "Robo.append(Robo2)\n",
    "Robo.append(Robo3)\n",
    "Robo.append(Robo4)\n",
    "Robo.append(Robo5)\n",
    "Robo.append(Robo6)\n",
    "Robo.append(Robo7)\n",
    "Robo.append(Robo8)\n",
    "Robo.append(Robo9)\n",
    "\n",
    "Robo"
   ]
  },
  {
   "cell_type": "code",
   "execution_count": 3,
   "metadata": {},
   "outputs": [
    {
     "data": {
      "text/plain": [
       "[[444, 312, 2406],\n",
       " [417, 176, 2084],\n",
       " [497, 348, 1911],\n",
       " [351, 191, 1747],\n",
       " [401, 354, 1529],\n",
       " [247, 356, 1671],\n",
       " [185, 252, 1753],\n",
       " [184, 170, 1952],\n",
       " [321, 301, 1549]]"
      ]
     },
     "execution_count": 3,
     "metadata": {},
     "output_type": "execute_result"
    }
   ],
   "source": [
    "Cam1 = [444,312,2406] # green block\n",
    "Cam2 = [417,176,2084] # red block\n",
    "Cam3 = [497,348,1911] # blue block\n",
    "Cam4 = [351,191,1747]\n",
    "Cam5 = [401,354,1529]\n",
    "Cam6 = [247,356,1671]\n",
    "Cam7 = [185,252,1753]\n",
    "Cam8 = [184,170,1952]\n",
    "Cam9 = [321,301,1549]\n",
    "\n",
    "Cam = []\n",
    "Cam.append(Cam1)\n",
    "Cam.append(Cam2)\n",
    "Cam.append(Cam3)\n",
    "Cam.append(Cam4)\n",
    "Cam.append(Cam5)\n",
    "Cam.append(Cam6)\n",
    "Cam.append(Cam7)\n",
    "Cam.append(Cam8)\n",
    "Cam.append(Cam9)\n",
    "\n",
    "Cam"
   ]
  },
  {
   "cell_type": "code",
   "execution_count": 9,
   "metadata": {},
   "outputs": [
    {
     "data": {
      "text/plain": [
       "array([[-221.63,   57.03,  377.84,  437.44,  713.23,  596.38,  542.61,\n",
       "         211.25,  694.05],\n",
       "       [ 449.19,  296.45,  545.41,  124.65,  187.79, -196.88, -365.15,\n",
       "        -427.34,   -4.92],\n",
       "       [-108.02,  504.09,   -0.86,  481.03,   80.57,   58.72,  293.54,\n",
       "         487.84,  223.01],\n",
       "       [   1.  ,    1.  ,    1.  ,    1.  ,    1.  ,    1.  ,    1.  ,\n",
       "           1.  ,    1.  ]])"
      ]
     },
     "execution_count": 9,
     "metadata": {},
     "output_type": "execute_result"
    }
   ],
   "source": [
    "# Robo Calibration points\n",
    "np_robo_cali_points = np.array(Robo)\n",
    "arm_cord = np.column_stack((np_robo_cali_points[:,0:3], np.ones(np_robo_cali_points.shape[0]).T)).T\n",
    "arm_cord"
   ]
  },
  {
   "cell_type": "code",
   "execution_count": 10,
   "metadata": {},
   "outputs": [
    {
     "name": "stdout",
     "output_type": "stream",
     "text": [
      "1 . Robo Point: [-221.63  449.19 -108.02    0.  ]\n",
      "1 . Camera Point: [ 444.  312. 2406.]\n",
      "2 . Robo Point: [ 57.03 296.45 504.09   0.  ]\n",
      "2 . Camera Point: [ 417.  176. 2084.]\n",
      "3 . Robo Point: [377.84 545.41  -0.86   0.  ]\n",
      "3 . Camera Point: [ 497.  348. 1911.]\n",
      "4 . Robo Point: [437.44 124.65 481.03   0.  ]\n",
      "4 . Camera Point: [ 351.  191. 1747.]\n",
      "5 . Robo Point: [713.23 187.79  80.57   0.  ]\n",
      "5 . Camera Point: [ 401.  354. 1529.]\n",
      "6 . Robo Point: [ 596.38 -196.88   58.72    0.  ]\n",
      "6 . Camera Point: [ 247.  356. 1671.]\n",
      "7 . Robo Point: [ 542.61 -365.15  293.54    0.  ]\n",
      "7 . Camera Point: [ 185.  252. 1753.]\n",
      "8 . Robo Point: [ 211.25 -427.34  487.84    0.  ]\n",
      "8 . Camera Point: [ 184.  170. 1952.]\n",
      "9 . Robo Point: [694.05  -4.92 223.01   0.  ]\n",
      "9 . Camera Point: [ 321.  301. 1549.]\n"
     ]
    }
   ],
   "source": [
    "centers=np.ones(arm_cord.shape)\n",
    "for ind,pt in enumerate(np_robo_cali_points):\n",
    "    print(str(ind + 1), \". Robo Point:\", pt)\n",
    "    centers[0:3,ind] = Cam[ind]\n",
    "    print(str(ind + 1), \". Camera Point:\", centers[0:3,ind])"
   ]
  },
  {
   "cell_type": "code",
   "execution_count": 11,
   "metadata": {},
   "outputs": [
    {
     "data": {
      "text/plain": [
       "array([[4.440e+02, 3.120e+02, 2.406e+03, 1.000e+00],\n",
       "       [4.170e+02, 1.760e+02, 2.084e+03, 1.000e+00],\n",
       "       [4.970e+02, 3.480e+02, 1.911e+03, 1.000e+00],\n",
       "       [3.510e+02, 1.910e+02, 1.747e+03, 1.000e+00],\n",
       "       [4.010e+02, 3.540e+02, 1.529e+03, 1.000e+00],\n",
       "       [2.470e+02, 3.560e+02, 1.671e+03, 1.000e+00],\n",
       "       [1.850e+02, 2.520e+02, 1.753e+03, 1.000e+00],\n",
       "       [1.840e+02, 1.700e+02, 1.952e+03, 1.000e+00],\n",
       "       [3.210e+02, 3.010e+02, 1.549e+03, 1.000e+00]])"
      ]
     },
     "execution_count": 11,
     "metadata": {},
     "output_type": "execute_result"
    }
   ],
   "source": [
    "centers.T"
   ]
  },
  {
   "cell_type": "code",
   "execution_count": 12,
   "metadata": {},
   "outputs": [],
   "source": [
    "image_to_arm = np.dot(arm_cord, np.linalg.pinv(centers))\n",
    "arm_to_image = np.linalg.pinv(image_to_arm)"
   ]
  },
  {
   "cell_type": "code",
   "execution_count": 13,
   "metadata": {},
   "outputs": [
    {
     "name": "stdout",
     "output_type": "stream",
     "text": [
      "Finished\n",
      "Image to arm transform:\n",
      " [[-1.38537711e-01  5.36769204e-01 -1.04725998e+00  2.21072026e+03]\n",
      " [ 2.90797523e+00  1.29089884e-01  1.06705665e-01 -1.14894323e+03]\n",
      " [ 1.13721285e-01 -3.09858547e+00 -3.44271153e-01  1.66794680e+03]\n",
      " [-9.75781955e-19 -3.25260652e-19  1.08420217e-19  1.00000000e+00]]\n",
      "Arm to Image transform:\n",
      " [[ 2.87457598e-02  3.44495353e-01  1.93316287e-02  3.00012643e+02]\n",
      " [ 1.01773795e-01  1.67526287e-02 -3.04399661e-01  3.01976868e+02]\n",
      " [-9.06511614e-01 -3.69853747e-02 -1.58576215e-01  2.22604618e+03]\n",
      " [ 7.04731412e-18  5.31286170e-16  3.54547663e-16  1.00000000e+00]]\n",
      "\n",
      "\n",
      "-------------------\n",
      "-------------------\n",
      "-------------------\n",
      "Sanity Test: Image_to_Arm\n",
      "-------------------\n",
      "-------------------\n",
      "-------------------\n",
      "\n",
      "Spectated Camera Point: [ 444.  312. 2406.]\n",
      "Expected Robo Point: [-221.63  449.19 -108.02]\n",
      "Resulting Robo Point: [-203.02600108  439.20764422  -76.63601227]\n",
      "\n",
      "Spectated Camera Point: [ 417.  176. 2084.]\n",
      "Expected Robo Point: [ 57.03 296.45 504.09]\n",
      "Resulting Robo Point: [ 64.93161802 308.77686441 452.55644826]\n",
      "\n",
      "Spectated Camera Point: [ 497.  348. 1911.]\n",
      "Expected Robo Point: [377.84 545.41  -0.86]\n",
      "Resulting Robo Point: [327.34888025 545.158263   -11.74364015]\n",
      "\n",
      "Spectated Camera Point: [ 351.  191. 1747.]\n",
      "Expected Robo Point: [437.44 124.65 481.03]\n",
      "Resulting Robo Point: [435.05325733  82.82703801 514.59144007]\n",
      "\n",
      "Spectated Camera Point: [ 401.  354. 1529.]\n",
      "Expected Robo Point: [713.23 187.79  80.57]\n",
      "Resulting Robo Point: [743.92242705 226.0056157   90.25918423]\n",
      "\n",
      "Spectated Camera Point: [ 247.  356. 1671.]\n",
      "Expected Robo Point: [ 596.38 -196.88   58.72]\n",
      "Resulting Robo Point: [ 617.61985626 -206.41218596   17.66243159]\n",
      "\n",
      "Spectated Camera Point: [ 185.  252. 1753.]\n",
      "Expected Robo Point: [ 542.61 -365.15  293.54]\n",
      "Resulting Robo Point: [ 484.50987902 -391.38213379  304.63436617]\n",
      "\n",
      "Spectated Camera Point: [ 184.  170. 1952.]\n",
      "Expected Robo Point: [ 211.25 -427.34  487.84]\n",
      "Resulting Robo Point: [ 232.22860654 -383.64105209  490.09469387]\n",
      "\n",
      "Spectated Camera Point: [ 321.  301. 1549.]\n",
      "Expected Robo Point: [694.05  -4.92 223.01]\n",
      "Resulting Robo Point: [705.6114766  -11.3400535  238.50108823]\n",
      "\n",
      "-------------------\n",
      "-------------------\n",
      "-------------------\n",
      "Sanity Test: Arm_to_Image\n",
      "-------------------\n",
      "-------------------\n",
      "-------------------\n",
      "\n",
      "Spectated Robo Point: [-221.63  449.19 -108.02]\n",
      "Expected Camera Point: [ 444.  312. 2406.]\n",
      "Resulting Camera Point: [ 446.29738549  319.82710634 2427.47229391]\n",
      "\n",
      "Spectated Robo Point: [ 57.03 296.45 504.09]\n",
      "Expected Camera Point: [ 417.  176. 2084.]\n",
      "Resulting Camera Point: [ 413.52254197  159.30251929 2083.44682663]\n",
      "\n",
      "Spectated Robo Point: [377.84 545.41  -0.86]\n",
      "Expected Camera Point: [ 497.  348. 1911.]\n",
      "Resulting Camera Point: [ 498.74852632  349.82991378 1863.49401648]\n",
      "\n",
      "Spectated Robo Point: [437.44 124.65 481.03]\n",
      "Expected Camera Point: [ 351.  191. 1747.]\n",
      "Resulting Camera Point: [ 364.82762748  202.15964339 1748.61159827]\n",
      "\n",
      "Spectated Robo Point: [713.23 187.79  80.57]\n",
      "Expected Camera Point: [ 401.  354. 1529.]\n",
      "Resulting Camera Point: [ 386.76531313  353.18548758 1559.77293462]\n",
      "\n",
      "Spectated Robo Point: [ 596.38 -196.88   58.72]\n",
      "Expected Camera Point: [ 247.  356. 1671.]\n",
      "Resulting Camera Point: [ 250.46694763  341.50011849 1683.39087113]\n",
      "\n",
      "Spectated Robo Point: [ 542.61 -365.15  293.54]\n",
      "Expected Camera Point: [ 185.  252. 1753.]\n",
      "Resulting Camera Point: [ 195.49250814  261.72964832 1701.12066283]\n",
      "\n",
      "Spectated Robo Point: [ 211.25 -427.34  487.84]\n",
      "Expected Camera Point: [ 184.  170. 1952.]\n",
      "Resulting Camera Point: [ 168.29928263  167.81918339 1972.99111326]\n",
      "\n",
      "Spectated Robo Point: [694.05  -4.92 223.01]\n",
      "Expected Camera Point: [ 321.  301. 1549.]\n",
      "Resulting Camera Point: [ 322.5798672   304.64637942 1561.69968287]\n",
      "\n"
     ]
    }
   ],
   "source": [
    "print(\"Finished\")\n",
    "print(\"Image to arm transform:\\n\", image_to_arm)\n",
    "print(\"Arm to Image transform:\\n\", arm_to_image)\n",
    "print()\n",
    "print()\n",
    "\n",
    "print(\"-------------------\")\n",
    "print(\"-------------------\")\n",
    "print(\"-------------------\")\n",
    "print(\"Sanity Test: Image_to_Arm\")\n",
    "print(\"-------------------\")\n",
    "print(\"-------------------\")\n",
    "print(\"-------------------\")\n",
    "print()\n",
    "for ind, pt in enumerate(centers.T):\n",
    "    print(\"Spectated Camera Point:\", np.array(pt)[0:3])\n",
    "    print(\"Expected Robo Point:\", np_robo_cali_points[ind][0:3]) #default_cali_point\n",
    "    print(\"Resulting Robo Point:\", np.dot(image_to_arm, np.array(pt))[0:3])\n",
    "    print(\"\")\n",
    "    \n",
    "print(\"-------------------\")    \n",
    "print(\"-------------------\")\n",
    "print(\"-------------------\")\n",
    "print(\"Sanity Test: Arm_to_Image\")\n",
    "print(\"-------------------\")\n",
    "print(\"-------------------\")\n",
    "print(\"-------------------\")\n",
    "print()\n",
    "for ind, pt in enumerate(np_robo_cali_points):\n",
    "    print(\"Spectated Robo Point:\", np.array(pt)[0:3])\n",
    "    print(\"Expected Camera Point:\", centers.T[ind][0:3])\n",
    "    pt[3]=1\n",
    "    print(\"Resulting Camera Point:\", np.dot(arm_to_image, np.array(pt))[0:3])\n",
    "    print(\"\")"
   ]
  },
  {
   "cell_type": "code",
   "execution_count": null,
   "metadata": {},
   "outputs": [],
   "source": []
  },
  {
   "cell_type": "code",
   "execution_count": null,
   "metadata": {},
   "outputs": [],
   "source": []
  }
 ],
 "metadata": {
  "kernelspec": {
   "display_name": "Python 3",
   "language": "python",
   "name": "python3"
  },
  "language_info": {
   "codemirror_mode": {
    "name": "ipython",
    "version": 3
   },
   "file_extension": ".py",
   "mimetype": "text/x-python",
   "name": "python",
   "nbconvert_exporter": "python",
   "pygments_lexer": "ipython3",
   "version": "3.7.4"
  }
 },
 "nbformat": 4,
 "nbformat_minor": 2
}
