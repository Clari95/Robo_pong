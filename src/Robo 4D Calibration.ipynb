{
 "cells": [
  {
   "cell_type": "code",
   "execution_count": 10,
   "metadata": {},
   "outputs": [],
   "source": [
    "import numpy as np"
   ]
  },
  {
   "cell_type": "markdown",
   "metadata": {},
   "source": [
    "Credits to: https://github.com/heretic1993/autoCalibration"
   ]
  },
  {
   "cell_type": "code",
   "execution_count": 11,
   "metadata": {},
   "outputs": [
    {
     "data": {
      "text/plain": "[[5.79, 438.16, 379.02],\n [171.07, 546.43, 167.22],\n [296.6, 450.95, 244.06],\n [133.85, 103.18, 463.0],\n [460.65, 205.18, 287.03],\n [647.19, 35.69, 85.67],\n [468.88, -230.24, 201.38],\n [340.8, -450.5, 26.39],\n [104.79, -311.25, 407.06]]"
     },
     "execution_count": 11,
     "metadata": {},
     "output_type": "execute_result"
    }
   ],
   "source": [
    "Robo1 = [5.79, 438.16, 379.02]\n",
    "Robo2 = [171.07, 546.43, 167.22]\n",
    "Robo3 = [296.60, 450.95, 244.06]\n",
    "Robo4 = [133.85, 103.18, 463.00]\n",
    "Robo5 = [460.65, 205.18, 287.03]\n",
    "Robo6 = [647.19, 35.69, 85.67]\n",
    "Robo7 = [468.88, -230.24, 201.38]\n",
    "Robo8 = [340.80, -450.50, 26.39]\n",
    "Robo9 = [104.79, -311.25, 407.06]\n",
    "\n",
    "#Robo10 = [408.41,234.29,265.65]\n",
    "#Robo11 = [201.19,72.41,456.05]\n",
    "#Robo12 = [531.98,88.46,108.16]\n",
    "#Robo13 = [438.18,-2.58,308.79]\n",
    "#Robo14 = [534.02,-105.82,83.16]\n",
    "#Robo15 = [423.42,-122.20,305.81]\n",
    "#Robo16 = [244.01,-93.70,438.77]\n",
    "#Robo17 = [478.41,-266.70,61.52]\n",
    "#Robo18 = [488.16,-71.63,228.49]\n",
    "\n",
    "#Robo19 = [302.37,-35.99,417.84]\n",
    "#Robo20 = [415.80,-343.60,107.68]\n",
    "#Robo21 = [182.87,-230.46,423.33]\n",
    "#Robo22 = [249.03,-433.05,216.83]\n",
    "#Robo23 = [116.02,-331.25,388.71]\n",
    "\n",
    "Robo = []\n",
    "Robo.append(Robo1)\n",
    "Robo.append(Robo2)\n",
    "Robo.append(Robo3)\n",
    "Robo.append(Robo4)\n",
    "Robo.append(Robo5)\n",
    "Robo.append(Robo6)\n",
    "Robo.append(Robo7)\n",
    "Robo.append(Robo8)\n",
    "Robo.append(Robo9)\n",
    "#Robo.append(Robo10)\n",
    "#Robo.append(Robo11)\n",
    "#Robo.append(Robo12)\n",
    "#Robo.append(Robo13)\n",
    "#Robo.append(Robo14)\n",
    "#Robo.append(Robo15)\n",
    "#Robo.append(Robo16)\n",
    "#Robo.append(Robo17)\n",
    "#Robo.append(Robo18)\n",
    "#Robo.append(Robo19)\n",
    "#Robo.append(Robo20)\n",
    "#Robo.append(Robo21)\n",
    "#Robo.append(Robo22)\n",
    "#Robo.append(Robo23)\n",
    "\n",
    "Robo"
   ]
  },
  {
   "cell_type": "code",
   "execution_count": 12,
   "metadata": {},
   "outputs": [
    {
     "data": {
      "text/plain": "[[403, 235, 3350],\n [403, 235, 3243],\n [407, 272, 3064],\n [340, 220, 3079],\n [357, 269, 2772],\n [316, 321, 2704],\n [254, 287, 2880],\n [214, 317, 2928],\n [235, 230, 3109]]"
     },
     "execution_count": 12,
     "metadata": {},
     "output_type": "execute_result"
    }
   ],
   "source": [
    "Cam1 = [403, 235, 3350] # green block\n",
    "Cam2 = [403, 235, 3243] # red block\n",
    "Cam3 = [407, 272, 3064] # blue block\n",
    "Cam4 = [340, 220, 3079]\n",
    "Cam5 = [357, 269, 2772]\n",
    "Cam6 = [316, 321, 2704]\n",
    "Cam7 = [254, 287, 2880]\n",
    "Cam8 = [214, 317, 2928]\n",
    "Cam9 = [235, 230, 3109]\n",
    "#Cam10 = [386,288,1785] # green block\n",
    "#Cam11 = [333,200,1926] # red block\n",
    "#Cam12 = [329,353,1763] # blue block\n",
    "#Cam13 = [297,276,1754]\n",
    "#Cam14 = [260,360,1745]\n",
    "#Cam15 = [252,274,1746]\n",
    "#Cam16 = [262,209,1874]\n",
    "#Cam17 = [208,358,1773]\n",
    "#Cam18 = [272,308,1742]\n",
    "#Cam19 = [286,222,1802] # green block\n",
    "#Cam20 = [183,337,1836] # red block\n",
    "#Cam21 = [213,211,1959] # blue block\n",
    "#Cam22 = [161,286,1976]\n",
    "#C#am23 = [187,220,2098]\n",
    "\n",
    "Cam = []\n",
    "Cam.append(Cam1)\n",
    "Cam.append(Cam2)\n",
    "Cam.append(Cam3)\n",
    "Cam.append(Cam4)\n",
    "Cam.append(Cam5)\n",
    "Cam.append(Cam6)\n",
    "Cam.append(Cam7)\n",
    "Cam.append(Cam8)\n",
    "Cam.append(Cam9)\n",
    "#Cam.append(Cam10)\n",
    "#Cam.append(Cam11)\n",
    "#Cam.append(Cam12)\n",
    "#Cam.append(Cam13)\n",
    "#Cam.append(Cam14)\n",
    "#Cam.append(Cam15)\n",
    "#Cam.append(Cam16)\n",
    "#Cam.append(Cam17)\n",
    "#Cam.append(Cam18)\n",
    "#Cam.append(Cam19)\n",
    "#Cam.append(Cam20)\n",
    "#Cam.append(Cam21)\n",
    "#Cam.append(Cam22)\n",
    "#Cam.append(Cam23)\n",
    "\n",
    "Cam"
   ]
  },
  {
   "cell_type": "code",
   "execution_count": 13,
   "metadata": {},
   "outputs": [
    {
     "data": {
      "text/plain": "array([[   5.79,  171.07,  296.6 ,  133.85,  460.65,  647.19,  468.88,\n         340.8 ,  104.79],\n       [ 438.16,  546.43,  450.95,  103.18,  205.18,   35.69, -230.24,\n        -450.5 , -311.25],\n       [ 379.02,  167.22,  244.06,  463.  ,  287.03,   85.67,  201.38,\n          26.39,  407.06],\n       [   1.  ,    1.  ,    1.  ,    1.  ,    1.  ,    1.  ,    1.  ,\n           1.  ,    1.  ]])"
     },
     "execution_count": 13,
     "metadata": {},
     "output_type": "execute_result"
    }
   ],
   "source": [
    "# Robo Calibration points\n",
    "np_robo_cali_points = np.array(Robo)\n",
    "arm_cord = np.column_stack((np_robo_cali_points[:,0:3], np.ones(np_robo_cali_points.shape[0]).T)).T\n",
    "arm_cord"
   ]
  },
  {
   "cell_type": "code",
   "execution_count": 14,
   "metadata": {},
   "outputs": [
    {
     "name": "stdout",
     "output_type": "stream",
     "text": "1 . Robo Point: [  5.79 438.16 379.02]\n1 . Camera Point: [ 403.  235. 3350.]\n2 . Robo Point: [171.07 546.43 167.22]\n2 . Camera Point: [ 403.  235. 3243.]\n3 . Robo Point: [296.6  450.95 244.06]\n3 . Camera Point: [ 407.  272. 3064.]\n4 . Robo Point: [133.85 103.18 463.  ]\n4 . Camera Point: [ 340.  220. 3079.]\n5 . Robo Point: [460.65 205.18 287.03]\n5 . Camera Point: [ 357.  269. 2772.]\n6 . Robo Point: [647.19  35.69  85.67]\n6 . Camera Point: [ 316.  321. 2704.]\n7 . Robo Point: [ 468.88 -230.24  201.38]\n7 . Camera Point: [ 254.  287. 2880.]\n8 . Robo Point: [ 340.8  -450.5    26.39]\n8 . Camera Point: [ 214.  317. 2928.]\n9 . Robo Point: [ 104.79 -311.25  407.06]\n9 . Camera Point: [ 235.  230. 3109.]\n"
    }
   ],
   "source": [
    "centers=np.ones(arm_cord.shape)\n",
    "for ind,pt in enumerate(np_robo_cali_points):\n",
    "    print(str(ind + 1), \". Robo Point:\", pt)\n",
    "    centers[0:3,ind] = Cam[ind]\n",
    "    print(str(ind + 1), \". Camera Point:\", centers[0:3,ind])"
   ]
  },
  {
   "cell_type": "code",
   "execution_count": 15,
   "metadata": {},
   "outputs": [
    {
     "data": {
      "text/plain": "array([[4.030e+02, 4.030e+02, 4.070e+02, 3.400e+02, 3.570e+02, 3.160e+02,\n        2.540e+02, 2.140e+02, 2.350e+02],\n       [2.350e+02, 2.350e+02, 2.720e+02, 2.200e+02, 2.690e+02, 3.210e+02,\n        2.870e+02, 3.170e+02, 2.300e+02],\n       [3.350e+03, 3.243e+03, 3.064e+03, 3.079e+03, 2.772e+03, 2.704e+03,\n        2.880e+03, 2.928e+03, 3.109e+03],\n       [1.000e+00, 1.000e+00, 1.000e+00, 1.000e+00, 1.000e+00, 1.000e+00,\n        1.000e+00, 1.000e+00, 1.000e+00]])"
     },
     "execution_count": 15,
     "metadata": {},
     "output_type": "execute_result"
    }
   ],
   "source": [
    "np_cam_cali_points = np.array(Cam)\n",
    "centers = np.column_stack((np_cam_cali_points[:], np.ones(np_cam_cali_points.shape[0]).T)).T\n",
    "centers"
   ]
  },
  {
   "cell_type": "code",
   "execution_count": 16,
   "metadata": {},
   "outputs": [
    {
     "data": {
      "text/plain": "array([[4.030e+02, 2.350e+02, 3.350e+03, 1.000e+00],\n       [4.030e+02, 2.350e+02, 3.243e+03, 1.000e+00],\n       [4.070e+02, 2.720e+02, 3.064e+03, 1.000e+00],\n       [3.400e+02, 2.200e+02, 3.079e+03, 1.000e+00],\n       [3.570e+02, 2.690e+02, 2.772e+03, 1.000e+00],\n       [3.160e+02, 3.210e+02, 2.704e+03, 1.000e+00],\n       [2.540e+02, 2.870e+02, 2.880e+03, 1.000e+00],\n       [2.140e+02, 3.170e+02, 2.928e+03, 1.000e+00],\n       [2.350e+02, 2.300e+02, 3.109e+03, 1.000e+00]])"
     },
     "execution_count": 16,
     "metadata": {},
     "output_type": "execute_result"
    }
   ],
   "source": [
    "centers.T"
   ]
  },
  {
   "cell_type": "code",
   "execution_count": 17,
   "metadata": {},
   "outputs": [],
   "source": [
    "image_to_arm = np.dot(arm_cord, np.linalg.pinv(centers))\n",
    "arm_to_image = np.linalg.pinv(image_to_arm)"
   ]
  },
  {
   "cell_type": "code",
   "execution_count": 18,
   "metadata": {},
   "outputs": [
    {
     "name": "stdout",
     "output_type": "stream",
     "text": "Finished\nImage to arm transform:\n [[ 5.68192779e-01  1.95014068e+00 -7.38910498e-01  1.81758340e+03]\n [ 4.63951488e+00  2.17799140e-01  1.03736906e-01 -1.79283182e+03]\n [-1.10971419e-01 -4.54328774e+00 -2.60702910e-01  2.27763990e+03]\n [-2.60208521e-18 -1.73472348e-18 -3.79470760e-19  1.00000000e+00]]\nArm to Image transform:\n [[ 2.28650599e-02  2.13218769e-01  2.00359197e-02  2.95071630e+02]\n [ 6.60824393e-02 -1.26937306e-02 -1.92348511e-01  2.95232574e+02]\n [-1.16135606e+00  1.30455319e-01 -4.92241472e-01  3.46589476e+03]\n [ 2.97179815e-16  1.05173709e-15  5.99672222e-16  1.00000000e+00]]\n\n\n-------------------\n-------------------\n-------------------\nSanity Test: Image_to_Arm\n-------------------\n-------------------\n-------------------\n\nSpectated Camera Point: [ 403.  235. 3350.]\nExpected Robo Point: [  5.79 438.16 379.02]\nResulting Robo Point: [ 29.49798002 475.59411279 291.89104833]\n\nSpectated Camera Point: [ 403.  235. 3243.]\nExpected Robo Point: [171.07 546.43 167.22]\nResulting Robo Point: [108.5614033  464.49426386 319.78625968]\n\nSpectated Camera Point: [ 407.  272. 3064.]\nExpected Robo Point: [296.6  450.95 244.06]\nResulting Robo Point: [315.25435883 472.54198541 197.90654865]\n\nSpectated Camera Point: [ 340.  220. 3079.]\nExpected Robo Point: [133.85 103.18 463.  ]\nResulting Robo Point: [164.69446964 151.92498647 437.68205234]\n\nSpectated Camera Point: [ 357.  269. 2772.]\nExpected Robo Point: [460.65 205.18 287.03]\nResulting Robo Point: [496.75616323 209.62166724 293.21023249]\n\nSpectated Camera Point: [ 316.  321. 2704.]\nExpected Robo Point: [647.19  35.69  85.67]\nResulting Robo Point: [625.1134887   23.67300267  79.23689632]\n\nSpectated Camera Point: [ 254.  287. 2880.]\nExpected Robo Point: [ 468.88 -230.24  201.38]\nResulting Robo Point: [ 393.53250554 -253.12439548  194.7051952 ]\n\nSpectated Camera Point: [ 214.  317. 2928.]\nExpected Robo Point: [ 340.8  -450.5    26.39]\nResulting Robo Point: [ 393.84131099 -427.19164516   50.33168024]\n\nSpectated Camera Point: [ 235.  230. 3109.]\nExpected Robo Point: [ 104.79 -311.25  407.06]\nResulting Robo Point: [ 102.36831976 -329.9339778   396.08008674]\n\n-------------------\n-------------------\n-------------------\nSanity Test: Arm_to_Image\n-------------------\n-------------------\n-------------------\n\nSpectated Robo Point: [  5.79 438.16 379.02]\nExpected Camera Point: [ 403.  235. 3350.]\n"
    },
    {
     "ename": "IndexError",
     "evalue": "index 3 is out of bounds for axis 0 with size 3",
     "output_type": "error",
     "traceback": [
      "\u001b[1;31m---------------------------------------------------------------------------\u001b[0m",
      "\u001b[1;31mIndexError\u001b[0m                                Traceback (most recent call last)",
      "\u001b[1;32m<ipython-input-18-3a5eae450ba0>\u001b[0m in \u001b[0;36m<module>\u001b[1;34m\u001b[0m\n\u001b[0;32m     30\u001b[0m     \u001b[0mprint\u001b[0m\u001b[1;33m(\u001b[0m\u001b[1;34m\"Spectated Robo Point:\"\u001b[0m\u001b[1;33m,\u001b[0m \u001b[0mnp\u001b[0m\u001b[1;33m.\u001b[0m\u001b[0marray\u001b[0m\u001b[1;33m(\u001b[0m\u001b[0mpt\u001b[0m\u001b[1;33m)\u001b[0m\u001b[1;33m[\u001b[0m\u001b[1;36m0\u001b[0m\u001b[1;33m:\u001b[0m\u001b[1;36m3\u001b[0m\u001b[1;33m]\u001b[0m\u001b[1;33m)\u001b[0m\u001b[1;33m\u001b[0m\u001b[1;33m\u001b[0m\u001b[0m\n\u001b[0;32m     31\u001b[0m     \u001b[0mprint\u001b[0m\u001b[1;33m(\u001b[0m\u001b[1;34m\"Expected Camera Point:\"\u001b[0m\u001b[1;33m,\u001b[0m \u001b[0mcenters\u001b[0m\u001b[1;33m.\u001b[0m\u001b[0mT\u001b[0m\u001b[1;33m[\u001b[0m\u001b[0mind\u001b[0m\u001b[1;33m]\u001b[0m\u001b[1;33m[\u001b[0m\u001b[1;36m0\u001b[0m\u001b[1;33m:\u001b[0m\u001b[1;36m3\u001b[0m\u001b[1;33m]\u001b[0m\u001b[1;33m)\u001b[0m\u001b[1;33m\u001b[0m\u001b[1;33m\u001b[0m\u001b[0m\n\u001b[1;32m---> 32\u001b[1;33m     \u001b[0mpt\u001b[0m\u001b[1;33m[\u001b[0m\u001b[1;36m3\u001b[0m\u001b[1;33m]\u001b[0m\u001b[1;33m=\u001b[0m\u001b[1;36m1\u001b[0m\u001b[1;33m\u001b[0m\u001b[1;33m\u001b[0m\u001b[0m\n\u001b[0m\u001b[0;32m     33\u001b[0m     \u001b[0mprint\u001b[0m\u001b[1;33m(\u001b[0m\u001b[1;34m\"Resulting Camera Point:\"\u001b[0m\u001b[1;33m,\u001b[0m \u001b[0mnp\u001b[0m\u001b[1;33m.\u001b[0m\u001b[0mdot\u001b[0m\u001b[1;33m(\u001b[0m\u001b[0marm_to_image\u001b[0m\u001b[1;33m,\u001b[0m \u001b[0mnp\u001b[0m\u001b[1;33m.\u001b[0m\u001b[0marray\u001b[0m\u001b[1;33m(\u001b[0m\u001b[0mpt\u001b[0m\u001b[1;33m)\u001b[0m\u001b[1;33m)\u001b[0m\u001b[1;33m[\u001b[0m\u001b[1;36m0\u001b[0m\u001b[1;33m:\u001b[0m\u001b[1;36m3\u001b[0m\u001b[1;33m]\u001b[0m\u001b[1;33m)\u001b[0m\u001b[1;33m\u001b[0m\u001b[1;33m\u001b[0m\u001b[0m\n\u001b[0;32m     34\u001b[0m     \u001b[0mprint\u001b[0m\u001b[1;33m(\u001b[0m\u001b[1;34m\"\"\u001b[0m\u001b[1;33m)\u001b[0m\u001b[1;33m\u001b[0m\u001b[1;33m\u001b[0m\u001b[0m\n",
      "\u001b[1;31mIndexError\u001b[0m: index 3 is out of bounds for axis 0 with size 3"
     ]
    }
   ],
   "source": [
    "print(\"Finished\")\n",
    "print(\"Image to arm transform:\\n\", image_to_arm)\n",
    "print(\"Arm to Image transform:\\n\", arm_to_image)\n",
    "print()\n",
    "print()\n",
    "\n",
    "print(\"-------------------\")\n",
    "print(\"-------------------\")\n",
    "print(\"-------------------\")\n",
    "print(\"Sanity Test: Image_to_Arm\")\n",
    "print(\"-------------------\")\n",
    "print(\"-------------------\")\n",
    "print(\"-------------------\")\n",
    "print()\n",
    "for ind, pt in enumerate(centers.T):\n",
    "    print(\"Spectated Camera Point:\", np.array(pt)[0:3])\n",
    "    print(\"Expected Robo Point:\", np_robo_cali_points[ind][0:3]) #default_cali_point\n",
    "    print(\"Resulting Robo Point:\", np.dot(image_to_arm, np.array(pt))[0:3])\n",
    "    print(\"\")\n",
    "    \n",
    "print(\"-------------------\")    \n",
    "print(\"-------------------\")\n",
    "print(\"-------------------\")\n",
    "print(\"Sanity Test: Arm_to_Image\")\n",
    "print(\"-------------------\")\n",
    "print(\"-------------------\")\n",
    "print(\"-------------------\")\n",
    "print()\n",
    "for ind, pt in enumerate(np_robo_cali_points):\n",
    "    print(\"Spectated Robo Point:\", np.array(pt)[0:3])\n",
    "    print(\"Expected Camera Point:\", centers.T[ind][0:3])\n",
    "    pt[3]=1\n",
    "    print(\"Resulting Camera Point:\", np.dot(arm_to_image, np.array(pt))[0:3])\n",
    "    print(\"\")"
   ]
  },
  {
   "cell_type": "code",
   "execution_count": null,
   "metadata": {},
   "outputs": [],
   "source": []
  },
  {
   "cell_type": "code",
   "execution_count": null,
   "metadata": {},
   "outputs": [],
   "source": []
  }
 ],
 "metadata": {
  "kernelspec": {
   "display_name": "Python 3",
   "language": "python",
   "name": "python3"
  },
  "language_info": {
   "codemirror_mode": {
    "name": "ipython",
    "version": 3
   },
   "file_extension": ".py",
   "mimetype": "text/x-python",
   "name": "python",
   "nbconvert_exporter": "python",
   "pygments_lexer": "ipython3",
   "version": "3.7.3"
  }
 },
 "nbformat": 4,
 "nbformat_minor": 2
}