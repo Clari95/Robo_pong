{
 "cells": [
  {
   "cell_type": "code",
   "execution_count": 2,
   "metadata": {},
   "outputs": [],
   "source": [
    "import numpy as np\n",
    "# 3D Robo frame (mm)\n",
    "Robo1 = np.array([113.73094, 478.43097, 100])\n",
    "Robo2 = np.array([-202.3398, 521.03962, 100]) #210.1615\n",
    "Robo3 = np.array([-65.02234, 641.59127, 100])\n",
    "Robo4\n",
    "Robo5\n",
    "Robo6\n",
    "Robo7\n",
    "Robo8\n",
    "Robo9\n",
    "Robo10\n",
    "\n",
    "# 3D Camera frame (px: (x,y,z))\n",
    "Cam1 = np.array([157, 202, z]) # green block\n",
    "Cam2 = np.array([486, 287, z]) # red block\n",
    "Cam3 = np.array([322, 395, z]) # blue block\n",
    "Cam4\n",
    "Cam5\n",
    "Cam6\n",
    "Cam7\n",
    "Cam8\n",
    "Cam9\n",
    "Cam10"
   ]
  },
  {
   "cell_type": "code",
   "execution_count": 13,
   "metadata": {},
   "outputs": [],
   "source": [
    "#for a b c does not work for variables, we have to use it with our measured values as in the example above\n",
    "import numpy as np\n",
    "\n",
    "# A = np.array([[X1, Y1, Z1], [X2, Y2, Z2], [X3, Y3, Z3]])\n",
    "A = np.array([Robo1, Robo2, Robo3])"
   ]
  },
  {
   "cell_type": "code",
   "execution_count": 14,
   "metadata": {},
   "outputs": [
    {
     "name": "stdout",
     "output_type": "stream",
     "text": [
      "[-1.06132696 -0.15148094  3.50178886]\n",
      "Result: True\n"
     ]
    }
   ],
   "source": [
    "# bx = np.array([x1, x2, x3])\n",
    "bx = np.array([Cam1[0], Cam2[0], Cam3[0]])\n",
    "\n",
    "xi = np.linalg.solve(A, bx)\n",
    "print(xi)\n",
    "\n",
    "# check if solution is correct\n",
    "print(\"Result: \" + str(np.allclose(np.dot(A, xi), bx)))"
   ]
  },
  {
   "cell_type": "code",
   "execution_count": 15,
   "metadata": {},
   "outputs": [
    {
     "name": "stdout",
     "output_type": "stream",
     "text": [
      "[-0.12843397  1.04217758 -2.82003114]\n",
      "Result: True\n"
     ]
    }
   ],
   "source": [
    "#for d e f does not work for variables, we have to use it with our measured values as in the example above\n",
    "# by = np.array([y1, y2, y3])\n",
    "by = np.array([Cam1[1], Cam2[1], Cam3[1]])\n",
    "\n",
    "xii = np.linalg.solve(A, by)\n",
    "print(xii)\n",
    "\n",
    "# check if solution is correct\n",
    "print(\"Result: \" + str(np.allclose(np.dot(A, xii), by)))"
   ]
  },
  {
   "cell_type": "code",
   "execution_count": null,
   "metadata": {},
   "outputs": [],
   "source": [
    "#for g h i does not work for variables, we have to use it with our measured values as in the example above\n",
    "# bz = np.array([z1, z2, z3])\n",
    "bz = np.array([Cam1[2], Cam2[2], Cam3[2]])\n",
    "\n",
    "xiii = np.linalg.solve(A, bz)\n",
    "print(xiii)\n",
    "\n",
    "# check if solution is correct\n",
    "print(\"Result: \" + str(np.allclose(np.dot(A, xiii), bz)))"
   ]
  },
  {
   "cell_type": "code",
   "execution_count": 16,
   "metadata": {},
   "outputs": [
    {
     "name": "stdout",
     "output_type": "stream",
     "text": [
      "[[-1.06132696 -0.15148094  3.50178886]\n",
      " [-0.12843397  1.04217758 -2.82003114]\n",
      " [ 0.          0.          1.        ]]\n",
      "\n",
      "[[-0.9259303  -0.13458435  2.86288037]\n",
      " [-0.1141081   0.94294371  3.05871312]\n",
      " [ 0.          0.          1.        ]]\n"
     ]
    }
   ],
   "source": [
    "import numpy as np\n",
    "TrafoMatrix = np.array([xi, xii, xiii])\n",
    "print(TrafoMatrix)\n",
    "print()\n",
    "invTrafoMatrix = np.linalg.inv(TrafoMatrix)\n",
    "print(invTrafoMatrix)"
   ]
  },
  {
   "cell_type": "code",
   "execution_count": 6,
   "metadata": {},
   "outputs": [
    {
     "data": {
      "text/plain": [
       "array([[1., 0., 0.],\n",
       "       [0., 1., 0.],\n",
       "       [0., 0., 1.]])"
      ]
     },
     "execution_count": 6,
     "metadata": {},
     "output_type": "execute_result"
    }
   ],
   "source": [
    "TrafoMatrix@invTrafoMatrix"
   ]
  }
 ],
 "metadata": {
  "kernelspec": {
   "display_name": "Python 3",
   "language": "python",
   "name": "python3"
  },
  "language_info": {
   "codemirror_mode": {
    "name": "ipython",
    "version": 3
   },
   "file_extension": ".py",
   "mimetype": "text/x-python",
   "name": "python",
   "nbconvert_exporter": "python",
   "pygments_lexer": "ipython3",
   "version": "3.7.4"
  }
 },
 "nbformat": 4,
 "nbformat_minor": 2
}
